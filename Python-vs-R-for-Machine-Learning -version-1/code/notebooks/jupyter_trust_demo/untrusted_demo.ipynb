{
 "cells": [
  {
   "cell_type": "markdown",
   "id": "e9e4455c",
   "metadata": {},
   "source": [
    "\n",
    "# Jupyter Trust Demo\n",
    "\n",
    "This notebook demonstrates why the Jupyter trust model exists.\n",
    "\n",
    "When you open this notebook for the first time, it should be marked as **Not Trusted**.  \n",
    "That means any saved outputs containing JavaScript will **not** be executed until you explicitly trust it.\n"
   ]
  },
  {
   "cell_type": "code",
   "execution_count": null,
   "id": "46bf97f7",
   "metadata": {},
   "outputs": [],
   "source": [
    "\n",
    "from IPython.display import HTML\n",
    "\n",
    "# This injects raw JavaScript in the notebook output\n",
    "HTML(\"<script>alert('⚠️ This is why notebooks need a trust model!');</script>\")\n"
   ]
  },
  {
   "cell_type": "markdown",
   "id": "380ef8bc",
   "metadata": {},
   "source": [
    "\n",
    "## Instructions\n",
    "\n",
    "1. Run the cell above once, then save and close the notebook.  \n",
    "2. Reopen the notebook: it should be marked **Not Trusted**.  \n",
    "   - The popup will be blocked.  \n",
    "3. Click \"Trust Notebook\" and reopen it.  \n",
    "   - Now the popup executes, showing why the trust mechanism exists.\n"
   ]
  }
 ],
 "metadata": {},
 "nbformat": 4,
 "nbformat_minor": 5
}
